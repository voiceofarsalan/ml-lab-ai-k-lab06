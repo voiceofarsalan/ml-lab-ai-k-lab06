{
 "cells": [
  {
   "cell_type": "markdown",
   "id": "65c318af",
   "metadata": {},
   "source": [
    "## Name: Arsalan Ahmed\n",
    "### Roll No: 21I-0271\n",
    "### Lab 06"
   ]
  },
  {
   "cell_type": "code",
   "execution_count": 1,
   "id": "37d925f7",
   "metadata": {},
   "outputs": [],
   "source": [
    "import pandas as pd\n",
    "import numpy as np"
   ]
  },
  {
   "cell_type": "code",
   "execution_count": 2,
   "id": "7db4cbc2",
   "metadata": {},
   "outputs": [],
   "source": [
    "df=pd.read_csv(r\"/Users/macbookpro/Downloads/c6590d0cf119e87c39e31c21a9c0f3a8-4a8e3da267a0c1f0d650901d8295a5153bde8b21/PlayTennis.csv\")"
   ]
  },
  {
   "cell_type": "code",
   "execution_count": 3,
   "id": "cdbdc377",
   "metadata": {},
   "outputs": [
    {
     "data": {
      "text/html": [
       "<div>\n",
       "<style scoped>\n",
       "    .dataframe tbody tr th:only-of-type {\n",
       "        vertical-align: middle;\n",
       "    }\n",
       "\n",
       "    .dataframe tbody tr th {\n",
       "        vertical-align: top;\n",
       "    }\n",
       "\n",
       "    .dataframe thead th {\n",
       "        text-align: right;\n",
       "    }\n",
       "</style>\n",
       "<table border=\"1\" class=\"dataframe\">\n",
       "  <thead>\n",
       "    <tr style=\"text-align: right;\">\n",
       "      <th></th>\n",
       "      <th>Outlook</th>\n",
       "      <th>Temperature</th>\n",
       "      <th>Humidity</th>\n",
       "      <th>Wind</th>\n",
       "      <th>Play Tennis</th>\n",
       "    </tr>\n",
       "  </thead>\n",
       "  <tbody>\n",
       "    <tr>\n",
       "      <th>0</th>\n",
       "      <td>Sunny</td>\n",
       "      <td>Hot</td>\n",
       "      <td>High</td>\n",
       "      <td>Weak</td>\n",
       "      <td>No</td>\n",
       "    </tr>\n",
       "    <tr>\n",
       "      <th>1</th>\n",
       "      <td>Sunny</td>\n",
       "      <td>Hot</td>\n",
       "      <td>High</td>\n",
       "      <td>Strong</td>\n",
       "      <td>No</td>\n",
       "    </tr>\n",
       "    <tr>\n",
       "      <th>2</th>\n",
       "      <td>Overcast</td>\n",
       "      <td>Hot</td>\n",
       "      <td>High</td>\n",
       "      <td>Weak</td>\n",
       "      <td>Yes</td>\n",
       "    </tr>\n",
       "    <tr>\n",
       "      <th>3</th>\n",
       "      <td>Rain</td>\n",
       "      <td>Mild</td>\n",
       "      <td>High</td>\n",
       "      <td>Weak</td>\n",
       "      <td>Yes</td>\n",
       "    </tr>\n",
       "    <tr>\n",
       "      <th>4</th>\n",
       "      <td>Rain</td>\n",
       "      <td>Cool</td>\n",
       "      <td>Normal</td>\n",
       "      <td>Weak</td>\n",
       "      <td>Yes</td>\n",
       "    </tr>\n",
       "    <tr>\n",
       "      <th>5</th>\n",
       "      <td>Rain</td>\n",
       "      <td>Cool</td>\n",
       "      <td>Normal</td>\n",
       "      <td>Strong</td>\n",
       "      <td>No</td>\n",
       "    </tr>\n",
       "    <tr>\n",
       "      <th>6</th>\n",
       "      <td>Overcast</td>\n",
       "      <td>Cool</td>\n",
       "      <td>Normal</td>\n",
       "      <td>Strong</td>\n",
       "      <td>Yes</td>\n",
       "    </tr>\n",
       "    <tr>\n",
       "      <th>7</th>\n",
       "      <td>Sunny</td>\n",
       "      <td>Mild</td>\n",
       "      <td>High</td>\n",
       "      <td>Weak</td>\n",
       "      <td>No</td>\n",
       "    </tr>\n",
       "    <tr>\n",
       "      <th>8</th>\n",
       "      <td>Sunny</td>\n",
       "      <td>Cool</td>\n",
       "      <td>Normal</td>\n",
       "      <td>Weak</td>\n",
       "      <td>Yes</td>\n",
       "    </tr>\n",
       "    <tr>\n",
       "      <th>9</th>\n",
       "      <td>Rain</td>\n",
       "      <td>Mild</td>\n",
       "      <td>Normal</td>\n",
       "      <td>Weak</td>\n",
       "      <td>Yes</td>\n",
       "    </tr>\n",
       "    <tr>\n",
       "      <th>10</th>\n",
       "      <td>Sunny</td>\n",
       "      <td>Mild</td>\n",
       "      <td>Normal</td>\n",
       "      <td>Strong</td>\n",
       "      <td>Yes</td>\n",
       "    </tr>\n",
       "    <tr>\n",
       "      <th>11</th>\n",
       "      <td>Overcast</td>\n",
       "      <td>Mild</td>\n",
       "      <td>High</td>\n",
       "      <td>Strong</td>\n",
       "      <td>Yes</td>\n",
       "    </tr>\n",
       "    <tr>\n",
       "      <th>12</th>\n",
       "      <td>Overcast</td>\n",
       "      <td>Hot</td>\n",
       "      <td>Normal</td>\n",
       "      <td>Weak</td>\n",
       "      <td>Yes</td>\n",
       "    </tr>\n",
       "    <tr>\n",
       "      <th>13</th>\n",
       "      <td>Rain</td>\n",
       "      <td>Mild</td>\n",
       "      <td>High</td>\n",
       "      <td>Strong</td>\n",
       "      <td>No</td>\n",
       "    </tr>\n",
       "  </tbody>\n",
       "</table>\n",
       "</div>"
      ],
      "text/plain": [
       "     Outlook Temperature Humidity    Wind Play Tennis\n",
       "0      Sunny         Hot     High    Weak          No\n",
       "1      Sunny         Hot     High  Strong          No\n",
       "2   Overcast         Hot     High    Weak         Yes\n",
       "3       Rain        Mild     High    Weak         Yes\n",
       "4       Rain        Cool   Normal    Weak         Yes\n",
       "5       Rain        Cool   Normal  Strong          No\n",
       "6   Overcast        Cool   Normal  Strong         Yes\n",
       "7      Sunny        Mild     High    Weak          No\n",
       "8      Sunny        Cool   Normal    Weak         Yes\n",
       "9       Rain        Mild   Normal    Weak         Yes\n",
       "10     Sunny        Mild   Normal  Strong         Yes\n",
       "11  Overcast        Mild     High  Strong         Yes\n",
       "12  Overcast         Hot   Normal    Weak         Yes\n",
       "13      Rain        Mild     High  Strong          No"
      ]
     },
     "execution_count": 3,
     "metadata": {},
     "output_type": "execute_result"
    }
   ],
   "source": [
    "df"
   ]
  },
  {
   "cell_type": "code",
   "execution_count": 4,
   "id": "377a05df",
   "metadata": {},
   "outputs": [
    {
     "data": {
      "text/plain": [
       "14"
      ]
     },
     "execution_count": 4,
     "metadata": {},
     "output_type": "execute_result"
    }
   ],
   "source": [
    "len(df)"
   ]
  },
  {
   "cell_type": "code",
   "execution_count": 5,
   "id": "e83aa2b1",
   "metadata": {},
   "outputs": [
    {
     "data": {
      "text/plain": [
       "'Weak'"
      ]
     },
     "execution_count": 5,
     "metadata": {},
     "output_type": "execute_result"
    }
   ],
   "source": [
    "df[\"Wind\"].unique()[0]"
   ]
  },
  {
   "cell_type": "code",
   "execution_count": 6,
   "id": "50b470ac",
   "metadata": {},
   "outputs": [
    {
     "data": {
      "text/plain": [
       "'Weak'"
      ]
     },
     "execution_count": 6,
     "metadata": {},
     "output_type": "execute_result"
    }
   ],
   "source": [
    "df[\"Wind\"][0]"
   ]
  },
  {
   "cell_type": "code",
   "execution_count": 7,
   "id": "3227f7b5",
   "metadata": {},
   "outputs": [
    {
     "data": {
      "text/plain": [
       "'No'"
      ]
     },
     "execution_count": 7,
     "metadata": {},
     "output_type": "execute_result"
    }
   ],
   "source": [
    "df[\"Play Tennis\"].unique()[0]"
   ]
  },
  {
   "cell_type": "code",
   "execution_count": 8,
   "id": "fc2c767f",
   "metadata": {},
   "outputs": [
    {
     "data": {
      "text/plain": [
       "'Weak'"
      ]
     },
     "execution_count": 8,
     "metadata": {},
     "output_type": "execute_result"
    }
   ],
   "source": [
    "df[\"Wind\"].unique()[0]"
   ]
  },
  {
   "cell_type": "code",
   "execution_count": 9,
   "id": "80ac466b",
   "metadata": {},
   "outputs": [
    {
     "data": {
      "text/plain": [
       "5"
      ]
     },
     "execution_count": 9,
     "metadata": {},
     "output_type": "execute_result"
    }
   ],
   "source": [
    "df[\"Play Tennis\"].value_counts().get(df[\"Play Tennis\"].unique()[0], 0)"
   ]
  },
  {
   "cell_type": "code",
   "execution_count": 10,
   "id": "16b95de6",
   "metadata": {},
   "outputs": [],
   "source": [
    "## Probability of wind's unique features with respect to Play Tennis\n",
    "count=0\n",
    "count2=0\n",
    "count3=0\n",
    "count4=0\n",
    "for i in range (len(df)):\n",
    "    if df[\"Wind\"][i]==df[\"Wind\"].unique()[0] and df[\"Play Tennis\"][i]==df[\"Play Tennis\"].unique()[0]:\n",
    "        count+=1\n",
    "    elif df[\"Wind\"][i]==df[\"Wind\"].unique()[0] and df[\"Play Tennis\"][i]==df[\"Play Tennis\"].unique()[1]:\n",
    "        count2+=1\n",
    "    elif df[\"Wind\"][i]==df[\"Wind\"].unique()[1] and df[\"Play Tennis\"][i]==df[\"Play Tennis\"].unique()[0]:\n",
    "        count3+=1\n",
    "    elif df[\"Wind\"][i]==df[\"Wind\"].unique()[1] and df[\"Play Tennis\"][i]==df[\"Play Tennis\"].unique()[1]:\n",
    "        count4+=1\n"
   ]
  },
  {
   "cell_type": "code",
   "execution_count": 11,
   "id": "cfae4d7b",
   "metadata": {},
   "outputs": [
    {
     "data": {
      "text/plain": [
       "2"
      ]
     },
     "execution_count": 11,
     "metadata": {},
     "output_type": "execute_result"
    }
   ],
   "source": [
    "count"
   ]
  },
  {
   "cell_type": "code",
   "execution_count": 12,
   "id": "ce6ed111",
   "metadata": {},
   "outputs": [
    {
     "data": {
      "text/plain": [
       "6"
      ]
     },
     "execution_count": 12,
     "metadata": {},
     "output_type": "execute_result"
    }
   ],
   "source": [
    "count2"
   ]
  },
  {
   "cell_type": "code",
   "execution_count": 13,
   "id": "b5027482",
   "metadata": {},
   "outputs": [
    {
     "data": {
      "text/plain": [
       "3"
      ]
     },
     "execution_count": 13,
     "metadata": {},
     "output_type": "execute_result"
    }
   ],
   "source": [
    "count3"
   ]
  },
  {
   "cell_type": "code",
   "execution_count": 14,
   "id": "a039831c",
   "metadata": {},
   "outputs": [
    {
     "data": {
      "text/plain": [
       "3"
      ]
     },
     "execution_count": 14,
     "metadata": {},
     "output_type": "execute_result"
    }
   ],
   "source": [
    "count4"
   ]
  },
  {
   "cell_type": "code",
   "execution_count": 15,
   "id": "52922380",
   "metadata": {},
   "outputs": [],
   "source": [
    "array=[\"Sunny\",\"Mild\",\"High\",\"Weak\"]"
   ]
  },
  {
   "cell_type": "code",
   "execution_count": 16,
   "id": "893b176f",
   "metadata": {},
   "outputs": [
    {
     "data": {
      "text/html": [
       "<div>\n",
       "<style scoped>\n",
       "    .dataframe tbody tr th:only-of-type {\n",
       "        vertical-align: middle;\n",
       "    }\n",
       "\n",
       "    .dataframe tbody tr th {\n",
       "        vertical-align: top;\n",
       "    }\n",
       "\n",
       "    .dataframe thead th {\n",
       "        text-align: right;\n",
       "    }\n",
       "</style>\n",
       "<table border=\"1\" class=\"dataframe\">\n",
       "  <thead>\n",
       "    <tr style=\"text-align: right;\">\n",
       "      <th></th>\n",
       "      <th>Outlook</th>\n",
       "      <th>Temperature</th>\n",
       "      <th>Humidity</th>\n",
       "      <th>Wind</th>\n",
       "      <th>Play Tennis</th>\n",
       "    </tr>\n",
       "  </thead>\n",
       "  <tbody>\n",
       "    <tr>\n",
       "      <th>0</th>\n",
       "      <td>Sunny</td>\n",
       "      <td>Hot</td>\n",
       "      <td>High</td>\n",
       "      <td>Weak</td>\n",
       "      <td>No</td>\n",
       "    </tr>\n",
       "    <tr>\n",
       "      <th>1</th>\n",
       "      <td>Sunny</td>\n",
       "      <td>Hot</td>\n",
       "      <td>High</td>\n",
       "      <td>Strong</td>\n",
       "      <td>No</td>\n",
       "    </tr>\n",
       "    <tr>\n",
       "      <th>2</th>\n",
       "      <td>Overcast</td>\n",
       "      <td>Hot</td>\n",
       "      <td>High</td>\n",
       "      <td>Weak</td>\n",
       "      <td>Yes</td>\n",
       "    </tr>\n",
       "    <tr>\n",
       "      <th>3</th>\n",
       "      <td>Rain</td>\n",
       "      <td>Mild</td>\n",
       "      <td>High</td>\n",
       "      <td>Weak</td>\n",
       "      <td>Yes</td>\n",
       "    </tr>\n",
       "    <tr>\n",
       "      <th>4</th>\n",
       "      <td>Rain</td>\n",
       "      <td>Cool</td>\n",
       "      <td>Normal</td>\n",
       "      <td>Weak</td>\n",
       "      <td>Yes</td>\n",
       "    </tr>\n",
       "    <tr>\n",
       "      <th>5</th>\n",
       "      <td>Rain</td>\n",
       "      <td>Cool</td>\n",
       "      <td>Normal</td>\n",
       "      <td>Strong</td>\n",
       "      <td>No</td>\n",
       "    </tr>\n",
       "    <tr>\n",
       "      <th>6</th>\n",
       "      <td>Overcast</td>\n",
       "      <td>Cool</td>\n",
       "      <td>Normal</td>\n",
       "      <td>Strong</td>\n",
       "      <td>Yes</td>\n",
       "    </tr>\n",
       "    <tr>\n",
       "      <th>7</th>\n",
       "      <td>Sunny</td>\n",
       "      <td>Mild</td>\n",
       "      <td>High</td>\n",
       "      <td>Weak</td>\n",
       "      <td>No</td>\n",
       "    </tr>\n",
       "    <tr>\n",
       "      <th>8</th>\n",
       "      <td>Sunny</td>\n",
       "      <td>Cool</td>\n",
       "      <td>Normal</td>\n",
       "      <td>Weak</td>\n",
       "      <td>Yes</td>\n",
       "    </tr>\n",
       "    <tr>\n",
       "      <th>9</th>\n",
       "      <td>Rain</td>\n",
       "      <td>Mild</td>\n",
       "      <td>Normal</td>\n",
       "      <td>Weak</td>\n",
       "      <td>Yes</td>\n",
       "    </tr>\n",
       "    <tr>\n",
       "      <th>10</th>\n",
       "      <td>Sunny</td>\n",
       "      <td>Mild</td>\n",
       "      <td>Normal</td>\n",
       "      <td>Strong</td>\n",
       "      <td>Yes</td>\n",
       "    </tr>\n",
       "    <tr>\n",
       "      <th>11</th>\n",
       "      <td>Overcast</td>\n",
       "      <td>Mild</td>\n",
       "      <td>High</td>\n",
       "      <td>Strong</td>\n",
       "      <td>Yes</td>\n",
       "    </tr>\n",
       "    <tr>\n",
       "      <th>12</th>\n",
       "      <td>Overcast</td>\n",
       "      <td>Hot</td>\n",
       "      <td>Normal</td>\n",
       "      <td>Weak</td>\n",
       "      <td>Yes</td>\n",
       "    </tr>\n",
       "    <tr>\n",
       "      <th>13</th>\n",
       "      <td>Rain</td>\n",
       "      <td>Mild</td>\n",
       "      <td>High</td>\n",
       "      <td>Strong</td>\n",
       "      <td>No</td>\n",
       "    </tr>\n",
       "  </tbody>\n",
       "</table>\n",
       "</div>"
      ],
      "text/plain": [
       "     Outlook Temperature Humidity    Wind Play Tennis\n",
       "0      Sunny         Hot     High    Weak          No\n",
       "1      Sunny         Hot     High  Strong          No\n",
       "2   Overcast         Hot     High    Weak         Yes\n",
       "3       Rain        Mild     High    Weak         Yes\n",
       "4       Rain        Cool   Normal    Weak         Yes\n",
       "5       Rain        Cool   Normal  Strong          No\n",
       "6   Overcast        Cool   Normal  Strong         Yes\n",
       "7      Sunny        Mild     High    Weak          No\n",
       "8      Sunny        Cool   Normal    Weak         Yes\n",
       "9       Rain        Mild   Normal    Weak         Yes\n",
       "10     Sunny        Mild   Normal  Strong         Yes\n",
       "11  Overcast        Mild     High  Strong         Yes\n",
       "12  Overcast         Hot   Normal    Weak         Yes\n",
       "13      Rain        Mild     High  Strong          No"
      ]
     },
     "execution_count": 16,
     "metadata": {},
     "output_type": "execute_result"
    }
   ],
   "source": [
    "df"
   ]
  },
  {
   "cell_type": "code",
   "execution_count": 17,
   "id": "8d1bb9dc",
   "metadata": {},
   "outputs": [
    {
     "data": {
      "text/plain": [
       "True"
      ]
     },
     "execution_count": 17,
     "metadata": {},
     "output_type": "execute_result"
    }
   ],
   "source": [
    "df[\"Outlook\"][0]==array[0]"
   ]
  },
  {
   "cell_type": "code",
   "execution_count": 18,
   "id": "15887b7a",
   "metadata": {},
   "outputs": [
    {
     "data": {
      "text/plain": [
       "'Sunny'"
      ]
     },
     "execution_count": 18,
     "metadata": {},
     "output_type": "execute_result"
    }
   ],
   "source": [
    "df.loc[0][0]"
   ]
  },
  {
   "cell_type": "code",
   "execution_count": 19,
   "id": "fb759591",
   "metadata": {
    "scrolled": true
   },
   "outputs": [
    {
     "data": {
      "text/plain": [
       "3"
      ]
     },
     "execution_count": 19,
     "metadata": {},
     "output_type": "execute_result"
    }
   ],
   "source": [
    "len(df.iloc[:,0].unique())"
   ]
  },
  {
   "cell_type": "code",
   "execution_count": 20,
   "id": "78cd2a9d",
   "metadata": {},
   "outputs": [
    {
     "data": {
      "text/plain": [
       "'Sunny'"
      ]
     },
     "execution_count": 20,
     "metadata": {},
     "output_type": "execute_result"
    }
   ],
   "source": [
    "df.iloc[:,0].unique()[0]"
   ]
  },
  {
   "cell_type": "code",
   "execution_count": 21,
   "id": "72ce93f6",
   "metadata": {},
   "outputs": [
    {
     "data": {
      "text/plain": [
       "'Sunny'"
      ]
     },
     "execution_count": 21,
     "metadata": {},
     "output_type": "execute_result"
    }
   ],
   "source": [
    "df.iloc[:,0][8]"
   ]
  },
  {
   "cell_type": "code",
   "execution_count": 22,
   "id": "bac7af68",
   "metadata": {},
   "outputs": [],
   "source": [
    "mydict={\"No\":{},\"Yes\":{}}"
   ]
  },
  {
   "cell_type": "code",
   "execution_count": 23,
   "id": "7197bbf3",
   "metadata": {},
   "outputs": [],
   "source": [
    "mydict['No']={1:2}"
   ]
  },
  {
   "cell_type": "code",
   "execution_count": 24,
   "id": "ff996143",
   "metadata": {},
   "outputs": [],
   "source": [
    "mydict={}"
   ]
  },
  {
   "cell_type": "code",
   "execution_count": 25,
   "id": "0a076ea2",
   "metadata": {},
   "outputs": [],
   "source": [
    "from collections import defaultdict"
   ]
  },
  {
   "cell_type": "code",
   "execution_count": 33,
   "id": "301e5955",
   "metadata": {},
   "outputs": [
    {
     "data": {
      "text/plain": [
       "{}"
      ]
     },
     "execution_count": 33,
     "metadata": {},
     "output_type": "execute_result"
    }
   ],
   "source": [
    "my_dict=defaultdict(str)\n",
    "my_dict={\"No\":{},\"Yes\":{}}\n",
    "my_dict[\"No\"]"
   ]
  },
  {
   "cell_type": "code",
   "execution_count": 27,
   "id": "5e829634",
   "metadata": {},
   "outputs": [],
   "source": [
    "mydict={\"No\":{}}"
   ]
  },
  {
   "cell_type": "code",
   "execution_count": 28,
   "id": "c0215de1",
   "metadata": {},
   "outputs": [
    {
     "data": {
      "text/plain": [
       "{'No': {2: 0}}"
      ]
     },
     "execution_count": 28,
     "metadata": {},
     "output_type": "execute_result"
    }
   ],
   "source": [
    "mydict[\"No\"]={1:0}\n",
    "mydict[\"No\"][1]=2\n",
    "mydict[\"No\"]={2:0}\n",
    "mydict"
   ]
  },
  {
   "cell_type": "code",
   "execution_count": 29,
   "id": "53bbf51c",
   "metadata": {},
   "outputs": [
    {
     "data": {
      "text/plain": [
       "1"
      ]
     },
     "execution_count": 29,
     "metadata": {},
     "output_type": "execute_result"
    }
   ],
   "source": [
    "array=[\"No\",[1,2]]\n",
    "array[1][0]"
   ]
  },
  {
   "cell_type": "code",
   "execution_count": 30,
   "id": "0ccdbb2a",
   "metadata": {},
   "outputs": [
    {
     "data": {
      "text/plain": [
       "'Outlook'"
      ]
     },
     "execution_count": 30,
     "metadata": {},
     "output_type": "execute_result"
    }
   ],
   "source": [
    "df.columns[0]"
   ]
  },
  {
   "cell_type": "code",
   "execution_count": 39,
   "id": "a65472fd",
   "metadata": {},
   "outputs": [
    {
     "name": "stdout",
     "output_type": "stream",
     "text": [
      "0.6\n",
      "0.22\n",
      "0.0\n",
      "0.44\n",
      "0.4\n",
      "0.33\n",
      "0.4\n",
      "0.22\n",
      "0.4\n",
      "0.44\n",
      "0.2\n",
      "0.33\n",
      "0.8\n",
      "0.33\n",
      "0.2\n",
      "0.67\n",
      "0.4\n",
      "0.67\n",
      "0.6\n",
      "0.33\n"
     ]
    }
   ],
   "source": [
    "PN=0\n",
    "PY=0\n",
    "Probability=0\n",
    "Probability1=0\n",
    "dict1={}\n",
    "dict2={}\n",
    "#my_dict={}\n",
    "for i in range (len(df.columns)-1): #columns\n",
    "    my_dict[\"No\"][df.columns[i]]={}\n",
    "    my_dict[\"Yes\"][df.columns[i]]={}\n",
    "    dict1[df.columns[i]]={}\n",
    "    dict2[df.columns[i]]={}\n",
    "    for j in range(len(df.iloc[:,i].unique())): #unique values\n",
    "        PN=0\n",
    "        PY=0\n",
    "        #my_dict[\"No\"][df.columns[i]]={df.iloc[:,i].unique()[j]:0}\n",
    "        for k in range(len(df)): #probabilties\n",
    "            if df.iloc[:,i][k]==df.iloc[:,i].unique()[j] and df[\"Play Tennis\"][k]==df[\"Play Tennis\"].unique()[0]:\n",
    "                PN+=1\n",
    "            elif df.iloc[:,i][k]==df.iloc[:,i].unique()[j] and df[\"Play Tennis\"][k]==df[\"Play Tennis\"].unique()[1]:\n",
    "                PY+=1\n",
    "        Probability=float(PN/df[\"Play Tennis\"].value_counts().get(df[\"Play Tennis\"].unique()[0], 0))\n",
    "        Probability1=round(float(PY/df[\"Play Tennis\"].value_counts().get(df[\"Play Tennis\"].unique()[1], 0)),2)\n",
    "        print(Probability)\n",
    "        #my_dict['No'][df.columns[i]][df.iloc[:,i].unique()[j]]=Probability\n",
    "        dict1[df.columns[i]][df.iloc[:,i].unique()[j]]={\"No\":Probability,\"Yes\":Probability1}\n",
    "        print(Probability1)\n",
    "        #my_dict['Yes'][df.columns[i]][df.iloc[:,i].unique()[j]]=Probability"
   ]
  },
  {
   "cell_type": "code",
   "execution_count": 40,
   "id": "ed8e96a8",
   "metadata": {},
   "outputs": [
    {
     "data": {
      "text/plain": [
       "{'Outlook': {'Sunny': {'No': 0.6, 'Yes': 0.22},\n",
       "  'Overcast': {'No': 0.0, 'Yes': 0.44},\n",
       "  'Rain': {'No': 0.4, 'Yes': 0.33}},\n",
       " 'Temperature': {'Hot': {'No': 0.4, 'Yes': 0.22},\n",
       "  'Mild': {'No': 0.4, 'Yes': 0.44},\n",
       "  'Cool': {'No': 0.2, 'Yes': 0.33}},\n",
       " 'Humidity': {'High': {'No': 0.8, 'Yes': 0.33},\n",
       "  'Normal': {'No': 0.2, 'Yes': 0.67}},\n",
       " 'Wind': {'Weak': {'No': 0.4, 'Yes': 0.67},\n",
       "  'Strong': {'No': 0.6, 'Yes': 0.33}}}"
      ]
     },
     "execution_count": 40,
     "metadata": {},
     "output_type": "execute_result"
    }
   ],
   "source": [
    "dict1"
   ]
  },
  {
   "cell_type": "code",
   "execution_count": 45,
   "id": "7a60346f",
   "metadata": {},
   "outputs": [],
   "source": [
    "def Train(dataframe):\n",
    "    count = {}\n",
    "    prob = {}\n",
    "    for col in df.columns:\n",
    "        li = list(df[col].tolist())\n",
    "        print(\"Column: \",li)\n",
    "        uni = list(set(li))\n",
    "        print (\"Unique val in col:\",uni)\n",
    "        count[col] = {}\n",
    "        prob[col] = {}\n",
    "        for val in uni:\n",
    "            y=0\n",
    "            n=0\n",
    "            for val2 in range(len(df)):\n",
    "                if df[col][val2] == val and df[\"Play Tennis\"][val2] == \"Yes\":\n",
    "                    y+=1\n",
    "                elif df[col][val2] == val and df[\"Play Tennis\"][val2] == \"No\":\n",
    "                    n+=1\n",
    "            print(\"Yes\",y,\"No\",n)\n",
    "            count[col][val]={\"Yes\": y, \"No\": n}\n",
    "            prob[col][val]={\"Yes\":round(y/9,2),\"No\":n/5}\n",
    "        print(\"\\n\")\n",
    "    print(\"Counts:\",count)\n",
    "    print(\"\\nProbabilities:\",prob)\n",
    "    return prob"
   ]
  },
  {
   "cell_type": "code",
   "execution_count": 121,
   "id": "b961fc4c",
   "metadata": {
    "scrolled": true
   },
   "outputs": [
    {
     "data": {
      "text/plain": [
       "defaultdict(str,\n",
       "            {'No': {'Wind': {'Weak': 0.4, 'Strong': 0.6},\n",
       "              'Outlook': {'Sunny': 0.6, 'Overcast': 0.0, 'Rain': 0.4},\n",
       "              'Temperature': {'Hot': 0.4, 'Mild': 0.4, 'Cool': 0.2},\n",
       "              'Humidity': {'High': 0.8, 'Normal': 0.2}},\n",
       "             'Yes': {'Wind': {'Weak': 0.2222222222222222,\n",
       "               'Strong': 0.3333333333333333},\n",
       "              'Outlook': {'Sunny': 0.3333333333333333,\n",
       "               'Overcast': 0.0,\n",
       "               'Rain': 0.2222222222222222},\n",
       "              'Temperature': {'Hot': 0.2222222222222222,\n",
       "               'Mild': 0.2222222222222222,\n",
       "               'Cool': 0.1111111111111111},\n",
       "              'Humidity': {'High': 0.4444444444444444,\n",
       "               'Normal': 0.1111111111111111}}})"
      ]
     },
     "execution_count": 121,
     "metadata": {},
     "output_type": "execute_result"
    }
   ],
   "source": [
    "my_dict"
   ]
  },
  {
   "cell_type": "code",
   "execution_count": 43,
   "id": "6874c712",
   "metadata": {},
   "outputs": [],
   "source": [
    "array=[\"Sunny\",\"Mild\",\"High\",\"Weak\"]"
   ]
  },
  {
   "cell_type": "code",
   "execution_count": 44,
   "id": "a7e6d21b",
   "metadata": {},
   "outputs": [
    {
     "data": {
      "text/plain": [
       "['Sunny', 'Mild', 'High', 'Weak']"
      ]
     },
     "execution_count": 44,
     "metadata": {},
     "output_type": "execute_result"
    }
   ],
   "source": [
    "array"
   ]
  },
  {
   "cell_type": "code",
   "execution_count": 47,
   "id": "36120bed",
   "metadata": {},
   "outputs": [
    {
     "name": "stdout",
     "output_type": "stream",
     "text": [
      "Column:  ['Sunny', 'Sunny', 'Overcast', 'Rain', 'Rain', 'Rain', 'Overcast', 'Sunny', 'Sunny', 'Rain', 'Sunny', 'Overcast', 'Overcast', 'Rain']\n",
      "Unique val in col: ['Sunny', 'Rain', 'Overcast']\n",
      "Yes 2 No 3\n",
      "Yes 3 No 2\n",
      "Yes 4 No 0\n",
      "\n",
      "\n",
      "Column:  ['Hot', 'Hot', 'Hot', 'Mild', 'Cool', 'Cool', 'Cool', 'Mild', 'Cool', 'Mild', 'Mild', 'Mild', 'Hot', 'Mild']\n",
      "Unique val in col: ['Cool', 'Mild', 'Hot']\n",
      "Yes 3 No 1\n",
      "Yes 4 No 2\n",
      "Yes 2 No 2\n",
      "\n",
      "\n",
      "Column:  ['High', 'High', 'High', 'High', 'Normal', 'Normal', 'Normal', 'High', 'Normal', 'Normal', 'Normal', 'High', 'Normal', 'High']\n",
      "Unique val in col: ['Normal', 'High']\n",
      "Yes 6 No 1\n",
      "Yes 3 No 4\n",
      "\n",
      "\n",
      "Column:  ['Weak', 'Strong', 'Weak', 'Weak', 'Weak', 'Strong', 'Strong', 'Weak', 'Weak', 'Weak', 'Strong', 'Strong', 'Weak', 'Strong']\n",
      "Unique val in col: ['Strong', 'Weak']\n",
      "Yes 3 No 3\n",
      "Yes 6 No 2\n",
      "\n",
      "\n",
      "Column:  ['No', 'No', 'Yes', 'Yes', 'Yes', 'No', 'Yes', 'No', 'Yes', 'Yes', 'Yes', 'Yes', 'Yes', 'No']\n",
      "Unique val in col: ['Yes', 'No']\n",
      "Yes 9 No 0\n",
      "Yes 0 No 5\n",
      "\n",
      "\n",
      "Counts: {'Outlook': {'Sunny': {'Yes': 2, 'No': 3}, 'Rain': {'Yes': 3, 'No': 2}, 'Overcast': {'Yes': 4, 'No': 0}}, 'Temperature': {'Cool': {'Yes': 3, 'No': 1}, 'Mild': {'Yes': 4, 'No': 2}, 'Hot': {'Yes': 2, 'No': 2}}, 'Humidity': {'Normal': {'Yes': 6, 'No': 1}, 'High': {'Yes': 3, 'No': 4}}, 'Wind': {'Strong': {'Yes': 3, 'No': 3}, 'Weak': {'Yes': 6, 'No': 2}}, 'Play Tennis': {'Yes': {'Yes': 9, 'No': 0}, 'No': {'Yes': 0, 'No': 5}}}\n",
      "\n",
      "Probabilities: {'Outlook': {'Sunny': {'Yes': 0.22, 'No': 0.6}, 'Rain': {'Yes': 0.33, 'No': 0.4}, 'Overcast': {'Yes': 0.44, 'No': 0.0}}, 'Temperature': {'Cool': {'Yes': 0.33, 'No': 0.2}, 'Mild': {'Yes': 0.44, 'No': 0.4}, 'Hot': {'Yes': 0.22, 'No': 0.4}}, 'Humidity': {'Normal': {'Yes': 0.67, 'No': 0.2}, 'High': {'Yes': 0.33, 'No': 0.8}}, 'Wind': {'Strong': {'Yes': 0.33, 'No': 0.6}, 'Weak': {'Yes': 0.67, 'No': 0.4}}, 'Play Tennis': {'Yes': {'Yes': 1.0, 'No': 0.0}, 'No': {'Yes': 0.0, 'No': 1.0}}}\n"
     ]
    }
   ],
   "source": [
    "probabilities=Train(df)"
   ]
  },
  {
   "cell_type": "code",
   "execution_count": 50,
   "id": "2cf9ed2a",
   "metadata": {},
   "outputs": [
    {
     "data": {
      "text/plain": [
       "0.6"
      ]
     },
     "execution_count": 50,
     "metadata": {},
     "output_type": "execute_result"
    }
   ],
   "source": [
    "probabilities['Outlook']['Sunny']['No']"
   ]
  },
  {
   "cell_type": "code",
   "execution_count": 76,
   "id": "5e81992f",
   "metadata": {},
   "outputs": [],
   "source": [
    "def findprob(probs,arr, dataframe):\n",
    "    col=dataframe.columns\n",
    "    probNo=1\n",
    "    probYes=1\n",
    "    for i in range(len(arr)):\n",
    "        probNo*=probs[col[i]][arr[i]]['No']\n",
    "        probYes*=probs[col[i]][arr[i]]['Yes']\n",
    "    print(\"No: \",probNo)\n",
    "    print(\"Yes: \",probYes)\n",
    "    if probNo>=probYes:\n",
    "        print(\"No\")\n",
    "        return \"No\"\n",
    "    else:\n",
    "        print(\"Yes\")\n",
    "        return \"Yes\""
   ]
  },
  {
   "cell_type": "code",
   "execution_count": 77,
   "id": "4a4d21ed",
   "metadata": {},
   "outputs": [
    {
     "name": "stdout",
     "output_type": "stream",
     "text": [
      "No:  0.07680000000000001\n",
      "Yes:  0.02140248\n",
      "No\n"
     ]
    },
    {
     "data": {
      "text/plain": [
       "'No'"
      ]
     },
     "execution_count": 77,
     "metadata": {},
     "output_type": "execute_result"
    }
   ],
   "source": [
    "findprob(probabilities,array,df)"
   ]
  },
  {
   "cell_type": "code",
   "execution_count": 78,
   "id": "bfc0b4da",
   "metadata": {},
   "outputs": [],
   "source": [
    "a=list(df.loc[0][:-1])"
   ]
  },
  {
   "cell_type": "code",
   "execution_count": 79,
   "id": "2978e62e",
   "metadata": {},
   "outputs": [
    {
     "data": {
      "text/plain": [
       "['Sunny', 'Hot', 'High', 'Weak']"
      ]
     },
     "execution_count": 79,
     "metadata": {},
     "output_type": "execute_result"
    }
   ],
   "source": [
    "a"
   ]
  },
  {
   "cell_type": "code",
   "execution_count": 80,
   "id": "3d606b8f",
   "metadata": {},
   "outputs": [],
   "source": [
    "def prediction(dataframe,probs):\n",
    "    answers=[]\n",
    "    for i in range(len(dataframe)):\n",
    "        features=list(dataframe.loc[i][:-1])\n",
    "        answers.append(findprob(probs,features,dataframe))\n",
    "    return answers"
   ]
  },
  {
   "cell_type": "code",
   "execution_count": 81,
   "id": "2cd2a44a",
   "metadata": {},
   "outputs": [
    {
     "name": "stdout",
     "output_type": "stream",
     "text": [
      "No:  0.07680000000000001\n",
      "Yes:  0.01070124\n",
      "No\n",
      "No:  0.1152\n",
      "Yes:  0.00527076\n",
      "No\n",
      "No:  0.0\n",
      "Yes:  0.02140248\n",
      "Yes\n",
      "No:  0.051200000000000016\n",
      "Yes:  0.03210372\n",
      "No\n",
      "No:  0.006400000000000002\n",
      "Yes:  0.04888521000000001\n",
      "Yes\n",
      "No:  0.009600000000000003\n",
      "Yes:  0.024077790000000005\n",
      "Yes\n",
      "No:  0.0\n",
      "Yes:  0.03210372\n",
      "Yes\n",
      "No:  0.07680000000000001\n",
      "Yes:  0.02140248\n",
      "No\n",
      "No:  0.009600000000000001\n",
      "Yes:  0.032590140000000004\n",
      "Yes\n",
      "No:  0.012800000000000004\n",
      "Yes:  0.06518028000000001\n",
      "Yes\n",
      "No:  0.0288\n",
      "Yes:  0.02140248\n",
      "No\n",
      "No:  0.0\n",
      "Yes:  0.02108304\n",
      "Yes\n",
      "No:  0.0\n",
      "Yes:  0.04345352\n",
      "Yes\n",
      "No:  0.07680000000000002\n",
      "Yes:  0.01581228\n",
      "No\n"
     ]
    }
   ],
   "source": [
    "results=prediction(df,probabilities)"
   ]
  },
  {
   "cell_type": "code",
   "execution_count": 82,
   "id": "ecbd35d2",
   "metadata": {},
   "outputs": [
    {
     "data": {
      "text/plain": [
       "0      No\n",
       "1      No\n",
       "2     Yes\n",
       "3     Yes\n",
       "4     Yes\n",
       "5      No\n",
       "6     Yes\n",
       "7      No\n",
       "8     Yes\n",
       "9     Yes\n",
       "10    Yes\n",
       "11    Yes\n",
       "12    Yes\n",
       "13     No\n",
       "Name: Play Tennis, dtype: object"
      ]
     },
     "execution_count": 82,
     "metadata": {},
     "output_type": "execute_result"
    }
   ],
   "source": [
    "df[\"Play Tennis\"]"
   ]
  },
  {
   "cell_type": "code",
   "execution_count": 83,
   "id": "803e361a",
   "metadata": {},
   "outputs": [],
   "source": [
    "def accuracy(dataframe,predicted):\n",
    "    actual=list(dataframe['Play Tennis'])\n",
    "    count=0\n",
    "    for i in range(len(dataframe)):\n",
    "        if actual[i]==predicted[i]:\n",
    "            count+=1\n",
    "    accuracy=float(count/len(dataframe))\n",
    "    return accuracy"
   ]
  },
  {
   "cell_type": "code",
   "execution_count": 84,
   "id": "435f978f",
   "metadata": {},
   "outputs": [
    {
     "data": {
      "text/plain": [
       "0.7857142857142857"
      ]
     },
     "execution_count": 84,
     "metadata": {},
     "output_type": "execute_result"
    }
   ],
   "source": [
    "accuracy(df,results)"
   ]
  },
  {
   "cell_type": "code",
   "execution_count": 85,
   "id": "0d842d2f",
   "metadata": {},
   "outputs": [],
   "source": [
    "class NB():\n",
    "    def Train(dataframe):\n",
    "        count = {}\n",
    "        prob = {}\n",
    "        for col in df.columns:\n",
    "            li = list(df[col].tolist())\n",
    "            print(\"Column: \",li)\n",
    "            uni = list(set(li))\n",
    "            print (\"Unique val in col:\",uni)\n",
    "            count[col] = {}\n",
    "            prob[col] = {}\n",
    "            for val in uni:\n",
    "                y=0\n",
    "                n=0\n",
    "                for val2 in range(len(df)):\n",
    "                    if df[col][val2] == val and df[\"Play Tennis\"][val2] == \"Yes\":\n",
    "                        y+=1\n",
    "                    elif df[col][val2] == val and df[\"Play Tennis\"][val2] == \"No\":\n",
    "                        n+=1\n",
    "                print(\"Yes\",y,\"No\",n)\n",
    "                count[col][val]={\"Yes\": y, \"No\": n}\n",
    "                prob[col][val]={\"Yes\":round(y/9,2),\"No\":n/5}\n",
    "            print(\"\\n\")\n",
    "        print(\"Counts:\",count)\n",
    "        print(\"\\nProbabilities:\",prob)\n",
    "        return prob\n",
    "    \n",
    "    def findprob(probs,arr, dataframe):\n",
    "        col=dataframe.columns\n",
    "        probNo=1\n",
    "        probYes=1\n",
    "        for i in range(len(arr)):\n",
    "            probNo*=probs[col[i]][arr[i]]['No']\n",
    "            probYes*=probs[col[i]][arr[i]]['Yes']\n",
    "        print(\"No: \",probNo)\n",
    "        print(\"Yes: \",probYes)\n",
    "        if probNo>=probYes:\n",
    "            print(\"No\")\n",
    "            return \"No\"\n",
    "        else:\n",
    "            print(\"Yes\")\n",
    "        return \"Yes\"\n",
    "    \n",
    "    def prediction(dataframe,probs):\n",
    "        answers=[]\n",
    "        for i in range(len(dataframe)):\n",
    "            features=list(dataframe.loc[i][:-1])\n",
    "            answers.append(findprob(probs,features,dataframe))\n",
    "        return answers\n",
    "    \n",
    "    def accuracy(dataframe,predicted):\n",
    "        actual=list(dataframe['Play Tennis'])\n",
    "        count=0\n",
    "        for i in range(len(dataframe)):\n",
    "            if actual[i]==predicted[i]:\n",
    "                count+=1\n",
    "        accuracy=float(count/len(dataframe))\n",
    "        return accuracy"
   ]
  },
  {
   "cell_type": "code",
   "execution_count": 88,
   "id": "7d7e81a0",
   "metadata": {},
   "outputs": [],
   "source": []
  },
  {
   "cell_type": "code",
   "execution_count": null,
   "id": "74d52290",
   "metadata": {},
   "outputs": [],
   "source": []
  }
 ],
 "metadata": {
  "kernelspec": {
   "display_name": "Python 3 (ipykernel)",
   "language": "python",
   "name": "python3"
  },
  "language_info": {
   "codemirror_mode": {
    "name": "ipython",
    "version": 3
   },
   "file_extension": ".py",
   "mimetype": "text/x-python",
   "name": "python",
   "nbconvert_exporter": "python",
   "pygments_lexer": "ipython3",
   "version": "3.11.3"
  }
 },
 "nbformat": 4,
 "nbformat_minor": 5
}
